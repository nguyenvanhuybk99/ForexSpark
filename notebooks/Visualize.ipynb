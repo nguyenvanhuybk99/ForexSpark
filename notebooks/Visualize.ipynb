{
 "cells": [
  {
   "cell_type": "code",
   "execution_count": 1,
   "metadata": {},
   "outputs": [
    {
     "name": "stdout",
     "output_type": "stream",
     "text": [
      "Collecting matplotlib\n",
      "  Downloading matplotlib-3.3.3-cp37-cp37m-manylinux1_x86_64.whl (11.6 MB)\n",
      "\u001b[K     |████████████████████████████████| 11.6 MB 4.2 MB/s eta 0:00:01\n",
      "\u001b[?25hRequirement already satisfied: pyparsing!=2.0.4,!=2.1.2,!=2.1.6,>=2.0.3 in /usr/local/lib/python3.7/site-packages (from matplotlib) (2.4.7)\n",
      "Requirement already satisfied: python-dateutil>=2.1 in /usr/local/lib/python3.7/site-packages (from matplotlib) (2.8.1)\n",
      "Collecting cycler>=0.10\n",
      "  Downloading cycler-0.10.0-py2.py3-none-any.whl (6.5 kB)\n",
      "Requirement already satisfied: six in /usr/local/lib/python3.7/site-packages (from cycler>=0.10->matplotlib) (1.15.0)\n",
      "Collecting kiwisolver>=1.0.1\n",
      "  Downloading kiwisolver-1.3.1-cp37-cp37m-manylinux1_x86_64.whl (1.1 MB)\n",
      "\u001b[K     |████████████████████████████████| 1.1 MB 5.9 MB/s eta 0:00:01\n",
      "\u001b[?25hCollecting numpy>=1.15\n",
      "  Downloading numpy-1.19.4-cp37-cp37m-manylinux2010_x86_64.whl (14.5 MB)\n",
      "\u001b[K     |████████████████████████████████| 14.5 MB 4.6 MB/s eta 0:00:01\n",
      "\u001b[?25hCollecting pillow>=6.2.0\n",
      "  Downloading Pillow-8.0.1-cp37-cp37m-manylinux1_x86_64.whl (2.2 MB)\n",
      "\u001b[K     |████████████████████████████████| 2.2 MB 5.6 MB/s eta 0:00:01\n",
      "\u001b[?25hInstalling collected packages: pillow, numpy, kiwisolver, cycler, matplotlib\n",
      "Successfully installed cycler-0.10.0 kiwisolver-1.3.1 matplotlib-3.3.3 numpy-1.19.4 pillow-8.0.1\n",
      "Collecting tensorflow==1.14\n",
      "  Downloading tensorflow-1.14.0-cp37-cp37m-manylinux1_x86_64.whl (109.3 MB)\n",
      "\u001b[K     |████████████████████████████████| 109.3 MB 32 kB/s  eta 0:00:01    |███████████████▉                | 54.3 MB 6.6 MB/s eta 0:00:09     |███████████████████▌            | 66.7 MB 5.2 MB/s eta 0:00:09     |████████████████████▋           | 70.5 MB 3.1 MB/s eta 0:00:13     |█████████████████████▍          | 73.1 MB 3.1 MB/s eta 0:00:12\n",
      "\u001b[?25hRequirement already satisfied: six>=1.10.0 in /usr/local/lib/python3.7/site-packages (from tensorflow==1.14) (1.15.0)\n",
      "Requirement already satisfied: wheel>=0.26 in /usr/local/lib/python3.7/site-packages (from tensorflow==1.14) (0.36.2)\n",
      "Requirement already satisfied: numpy<2.0,>=1.14.5 in /usr/local/lib/python3.7/site-packages (from tensorflow==1.14) (1.19.4)\n",
      "Collecting absl-py>=0.7.0\n",
      "  Downloading absl_py-0.11.0-py3-none-any.whl (127 kB)\n",
      "\u001b[K     |████████████████████████████████| 127 kB 5.4 MB/s eta 0:00:01\n",
      "\u001b[?25hCollecting astor>=0.6.0\n",
      "  Downloading astor-0.8.1-py2.py3-none-any.whl (27 kB)\n",
      "Collecting gast>=0.2.0\n",
      "  Downloading gast-0.4.0-py3-none-any.whl (9.8 kB)\n",
      "Collecting google-pasta>=0.1.6\n",
      "  Downloading google_pasta-0.2.0-py3-none-any.whl (57 kB)\n",
      "\u001b[K     |████████████████████████████████| 57 kB 561 kB/s eta 0:00:01\n",
      "\u001b[?25hCollecting grpcio>=1.8.6\n",
      "  Downloading grpcio-1.34.0-cp37-cp37m-manylinux2014_x86_64.whl (3.9 MB)\n",
      "\u001b[K     |████████████████████████████████| 3.9 MB 7.5 MB/s eta 0:00:01\n",
      "\u001b[?25hCollecting keras-applications>=1.0.6\n",
      "  Downloading Keras_Applications-1.0.8-py3-none-any.whl (50 kB)\n",
      "\u001b[K     |████████████████████████████████| 50 kB 1.4 MB/s eta 0:00:01\n",
      "\u001b[?25hCollecting keras-preprocessing>=1.0.5\n",
      "  Downloading Keras_Preprocessing-1.1.2-py2.py3-none-any.whl (42 kB)\n",
      "\u001b[K     |████████████████████████████████| 42 kB 237 kB/s eta 0:00:011\n",
      "\u001b[?25hCollecting protobuf>=3.6.1\n",
      "  Downloading protobuf-3.14.0-cp37-cp37m-manylinux1_x86_64.whl (1.0 MB)\n",
      "\u001b[K     |████████████████████████████████| 1.0 MB 4.7 MB/s eta 0:00:01\n",
      "\u001b[?25hCollecting tensorboard<1.15.0,>=1.14.0\n",
      "  Downloading tensorboard-1.14.0-py3-none-any.whl (3.1 MB)\n",
      "\u001b[K     |████████████████████████████████| 3.1 MB 5.1 MB/s eta 0:00:01\n",
      "\u001b[?25hRequirement already satisfied: setuptools>=41.0.0 in /usr/local/lib/python3.7/site-packages (from tensorboard<1.15.0,>=1.14.0->tensorflow==1.14) (51.0.0)\n",
      "Collecting markdown>=2.6.8\n",
      "  Downloading Markdown-3.3.3-py3-none-any.whl (96 kB)\n",
      "\u001b[K     |████████████████████████████████| 96 kB 978 kB/s eta 0:00:01\n",
      "\u001b[?25hRequirement already satisfied: importlib-metadata in /usr/local/lib/python3.7/site-packages (from markdown>=2.6.8->tensorboard<1.15.0,>=1.14.0->tensorflow==1.14) (3.3.0)\n",
      "Collecting tensorflow-estimator<1.15.0rc0,>=1.14.0rc0\n",
      "  Downloading tensorflow_estimator-1.14.0-py2.py3-none-any.whl (488 kB)\n",
      "\u001b[K     |████████████████████████████████| 488 kB 5.2 MB/s eta 0:00:01\n",
      "\u001b[?25hCollecting termcolor>=1.1.0\n",
      "  Downloading termcolor-1.1.0.tar.gz (3.9 kB)\n",
      "Collecting werkzeug>=0.11.15\n",
      "  Downloading Werkzeug-1.0.1-py2.py3-none-any.whl (298 kB)\n",
      "\u001b[K     |████████████████████████████████| 298 kB 6.5 MB/s eta 0:00:01\n",
      "\u001b[?25hCollecting wrapt>=1.11.1\n",
      "  Downloading wrapt-1.12.1.tar.gz (27 kB)\n",
      "Collecting h5py\n",
      "  Downloading h5py-3.1.0-cp37-cp37m-manylinux1_x86_64.whl (4.0 MB)\n",
      "\u001b[K     |████████████████████████████████| 4.0 MB 7.2 MB/s eta 0:00:01\n",
      "\u001b[?25hCollecting cached-property\n",
      "  Downloading cached_property-1.5.2-py2.py3-none-any.whl (7.6 kB)\n",
      "Requirement already satisfied: typing-extensions>=3.6.4 in /usr/local/lib/python3.7/site-packages (from importlib-metadata->markdown>=2.6.8->tensorboard<1.15.0,>=1.14.0->tensorflow==1.14) (3.7.4.3)\n",
      "Requirement already satisfied: zipp>=0.5 in /usr/local/lib/python3.7/site-packages (from importlib-metadata->markdown>=2.6.8->tensorboard<1.15.0,>=1.14.0->tensorflow==1.14) (3.4.0)\n",
      "Building wheels for collected packages: termcolor, wrapt\n",
      "  Building wheel for termcolor (setup.py) ... \u001b[?25ldone\n",
      "\u001b[?25h  Created wheel for termcolor: filename=termcolor-1.1.0-py3-none-any.whl size=4829 sha256=4c9a36f44397e964e0b025cfae8c92fae2daa6482e768a8124dba14b275d16fb\n",
      "  Stored in directory: /root/.cache/pip/wheels/3f/e3/ec/8a8336ff196023622fbcb36de0c5a5c218cbb24111d1d4c7f2\n",
      "  Building wheel for wrapt (setup.py) ... \u001b[?25ldone\n",
      "\u001b[?25h  Created wheel for wrapt: filename=wrapt-1.12.1-cp37-cp37m-linux_x86_64.whl size=71604 sha256=96a3d243c172e09a19fbe26a774e2bf062d93a28ad19b45d4f602a149e68939c\n",
      "  Stored in directory: /root/.cache/pip/wheels/62/76/4c/aa25851149f3f6d9785f6c869387ad82b3fd37582fa8147ac6\n",
      "Successfully built termcolor wrapt\n",
      "Installing collected packages: cached-property, werkzeug, protobuf, markdown, h5py, grpcio, absl-py, wrapt, termcolor, tensorflow-estimator, tensorboard, keras-preprocessing, keras-applications, google-pasta, gast, astor, tensorflow\n",
      "Successfully installed absl-py-0.11.0 astor-0.8.1 cached-property-1.5.2 gast-0.4.0 google-pasta-0.2.0 grpcio-1.34.0 h5py-3.1.0 keras-applications-1.0.8 keras-preprocessing-1.1.2 markdown-3.3.3 protobuf-3.14.0 tensorboard-1.14.0 tensorflow-1.14.0 tensorflow-estimator-1.14.0 termcolor-1.1.0 werkzeug-1.0.1 wrapt-1.12.1\n",
      "Collecting sklearn\n",
      "  Downloading sklearn-0.0.tar.gz (1.1 kB)\n",
      "Collecting scikit-learn\n",
      "  Downloading scikit_learn-0.23.2-cp37-cp37m-manylinux1_x86_64.whl (6.8 MB)\n",
      "\u001b[K     |████████████████████████████████| 6.8 MB 1.7 MB/s eta 0:00:01\n",
      "\u001b[?25hRequirement already satisfied: numpy>=1.13.3 in /usr/local/lib/python3.7/site-packages (from scikit-learn->sklearn) (1.19.4)\n",
      "Collecting joblib>=0.11\n",
      "  Downloading joblib-1.0.0-py3-none-any.whl (302 kB)\n",
      "\u001b[K     |████████████████████████████████| 302 kB 4.7 MB/s eta 0:00:01\n",
      "\u001b[?25hCollecting scipy>=0.19.1\n",
      "  Downloading scipy-1.5.4-cp37-cp37m-manylinux1_x86_64.whl (25.9 MB)\n",
      "\u001b[K     |████████████████████████████████| 25.9 MB 2.0 kB/s eta 0:00:01\n",
      "\u001b[?25hCollecting threadpoolctl>=2.0.0\n",
      "  Downloading threadpoolctl-2.1.0-py3-none-any.whl (12 kB)\n",
      "Building wheels for collected packages: sklearn\n",
      "  Building wheel for sklearn (setup.py) ... \u001b[?25ldone\n",
      "\u001b[?25h  Created wheel for sklearn: filename=sklearn-0.0-py2.py3-none-any.whl size=1316 sha256=4336a70ab39f862ea9213a53412a0125a23e5eb9a6d867774e0b142e38280f25\n",
      "  Stored in directory: /root/.cache/pip/wheels/46/ef/c3/157e41f5ee1372d1be90b09f74f82b10e391eaacca8f22d33e\n",
      "Successfully built sklearn\n",
      "Installing collected packages: threadpoolctl, scipy, joblib, scikit-learn, sklearn\n",
      "Successfully installed joblib-1.0.0 scikit-learn-0.23.2 scipy-1.5.4 sklearn-0.0 threadpoolctl-2.1.0\n",
      "Requirement already satisfied: joblib in /usr/local/lib/python3.7/site-packages (1.0.0)\n",
      "Collecting scikit-learn==0.20.3\n",
      "  Downloading scikit_learn-0.20.3-cp37-cp37m-manylinux1_x86_64.whl (5.4 MB)\n",
      "\u001b[K     |████████████████████████████████| 5.4 MB 6.5 MB/s eta 0:00:01\n",
      "\u001b[?25hRequirement already satisfied: numpy>=1.8.2 in /usr/local/lib/python3.7/site-packages (from scikit-learn==0.20.3) (1.19.4)\n",
      "Requirement already satisfied: scipy>=0.13.3 in /usr/local/lib/python3.7/site-packages (from scikit-learn==0.20.3) (1.5.4)\n",
      "Installing collected packages: scikit-learn\n",
      "  Attempting uninstall: scikit-learn\n",
      "    Found existing installation: scikit-learn 0.23.2\n",
      "    Uninstalling scikit-learn-0.23.2:\n",
      "      Successfully uninstalled scikit-learn-0.23.2\n",
      "Successfully installed scikit-learn-0.20.3\n",
      "Collecting keras==2.4.3\n",
      "  Downloading Keras-2.4.3-py2.py3-none-any.whl (36 kB)\n",
      "Requirement already satisfied: h5py in /usr/local/lib/python3.7/site-packages (from keras==2.4.3) (3.1.0)\n",
      "Requirement already satisfied: scipy>=0.14 in /usr/local/lib/python3.7/site-packages (from keras==2.4.3) (1.5.4)\n",
      "Requirement already satisfied: numpy>=1.9.1 in /usr/local/lib/python3.7/site-packages (from keras==2.4.3) (1.19.4)\n",
      "Requirement already satisfied: cached-property in /usr/local/lib/python3.7/site-packages (from h5py->keras==2.4.3) (1.5.2)\n",
      "Collecting pyyaml\n",
      "  Downloading PyYAML-5.3.1.tar.gz (269 kB)\n",
      "\u001b[K     |████████████████████████████████| 269 kB 1.8 MB/s eta 0:00:01\n",
      "\u001b[?25hBuilding wheels for collected packages: pyyaml\n",
      "  Building wheel for pyyaml (setup.py) ... \u001b[?25ldone\n",
      "\u001b[?25h  Created wheel for pyyaml: filename=PyYAML-5.3.1-cp37-cp37m-linux_x86_64.whl size=411596 sha256=0664f93af9803826b28721053495e4df4a965d8eb777a529e17870675b70a0cd\n",
      "  Stored in directory: /root/.cache/pip/wheels/5e/03/1e/e1e954795d6f35dfc7b637fe2277bff021303bd9570ecea653\n",
      "Successfully built pyyaml\n",
      "Installing collected packages: pyyaml, keras\n",
      "Successfully installed keras-2.4.3 pyyaml-5.3.1\n"
     ]
    }
   ],
   "source": [
    "!pip install matplotlib\n",
    "!pip install tensorflow==1.14\n",
    "!pip install sklearn\n",
    "!pip install joblib\n",
    "!pip install --upgrade scikit-learn==0.20.3\n",
    "!pip install keras==2.4.3"
   ]
  },
  {
   "cell_type": "code",
   "execution_count": 2,
   "metadata": {},
   "outputs": [],
   "source": [
    "from pyspark.sql import SparkSession"
   ]
  },
  {
   "cell_type": "markdown",
   "metadata": {},
   "source": [
    "Chúng ta cần khai báo địa chỉ spark trong môi trường docker: \"spark://spark-master:7077\"\n",
    "*Sau khi kết nối được với spark thông qua spark context, mở trang localhost:8080 sẽ thấy một job đang chạy*  "
   ]
  },
  {
   "cell_type": "code",
   "execution_count": 3,
   "metadata": {},
   "outputs": [
    {
     "data": {
      "text/html": [
       "\n",
       "            <div>\n",
       "                <p><b>SparkSession - in-memory</b></p>\n",
       "                \n",
       "        <div>\n",
       "            <p><b>SparkContext</b></p>\n",
       "\n",
       "            <p><a href=\"http://d7cbe0c8c983:4040\">Spark UI</a></p>\n",
       "\n",
       "            <dl>\n",
       "              <dt>Version</dt>\n",
       "                <dd><code>v3.0.1</code></dd>\n",
       "              <dt>Master</dt>\n",
       "                <dd><code>spark://spark-master:7077</code></dd>\n",
       "              <dt>AppName</dt>\n",
       "                <dd><code>Visualize</code></dd>\n",
       "            </dl>\n",
       "        </div>\n",
       "        \n",
       "            </div>\n",
       "        "
      ],
      "text/plain": [
       "<pyspark.sql.session.SparkSession at 0x7f3905bfcc90>"
      ]
     },
     "execution_count": 3,
     "metadata": {},
     "output_type": "execute_result"
    }
   ],
   "source": [
    "packages = [\"org.apache.spark:spark-streaming-kafka-0-10_2.12:3.0.1\",\n",
    "            \"org.apache.spark:spark-sql-kafka-0-10_2.12:3.0.1\"]\n",
    "packages = \",\".join(packages)\n",
    "\n",
    "master = \"spark://spark-master:7077\"\n",
    "appName = \"Visualize\"\n",
    "\n",
    "spark = SparkSession.builder \\\n",
    "                    .master(master) \\\n",
    "                    .appName(appName) \\\n",
    "                    .config(\"spark.jars.packages\", packages) \\\n",
    "                    .config(\"spark.executor.memory\", \"1024m\") \\\n",
    "                    .config(\"spark.executor.core\", \"1\") \\\n",
    "                    .getOrCreate()\n",
    "\n",
    "spark"
   ]
  },
  {
   "cell_type": "markdown",
   "metadata": {},
   "source": [
    "Chạy chương trình logger trong scripts/run-logger.sh để thực hiện streaming dữ liệu.\n",
    "Dùng spark để nhận dữ liệu được streaming từ kafka tại df"
   ]
  },
  {
   "cell_type": "code",
   "execution_count": 4,
   "metadata": {},
   "outputs": [],
   "source": [
    "df = spark \\\n",
    "  .readStream \\\n",
    "  .format(\"kafka\") \\\n",
    "  .option(\"kafka.bootstrap.servers\", \"kafka:9093, kafka1:9093\") \\\n",
    "  .option(\"subscribe\", \"USDEUR\") \\\n",
    "  .option(\"startingOffsets\", \"earliest\") \\\n",
    "  .load()"
   ]
  },
  {
   "cell_type": "code",
   "execution_count": 5,
   "metadata": {},
   "outputs": [],
   "source": [
    "from pyspark.sql.functions import col, udf, split, mean\n",
    "from pyspark.sql import Row, DataFrame\n",
    "import numpy as np"
   ]
  },
  {
   "cell_type": "markdown",
   "metadata": {},
   "source": [
    "Trích xuất các thông tin cần thiết từ dữ liệu và ghi vào bộ nhớ ram ở dạng temporary table"
   ]
  },
  {
   "cell_type": "code",
   "execution_count": 6,
   "metadata": {},
   "outputs": [],
   "source": [
    "value = df.select(col(\"value\").cast(\"string\").alias(\"Value\"))\n",
    "# value.writeStream.format(\"memory\").queryName(\"value\").outputMode(\"update\").start()\n",
    "\n",
    "split_col = split(col(\"Value\"), \",\")\n",
    "extract_task = value.select(split_col.getItem(0).cast(\"int\").alias('id'),\n",
    "                            split_col.getItem(1).cast(\"string\").alias(\"Time\"),\n",
    "                            split_col.getItem(2).cast(\"float\").alias(\"Open\"),\n",
    "                            split_col.getItem(3).cast(\"float\").alias(\"High\"),\n",
    "                            split_col.getItem(4).cast(\"float\").alias(\"Low\"),\n",
    "                            split_col.getItem(5).cast(\"float\").alias(\"Close\"),\n",
    "                            split_col.getItem(6).cast(\"float\").alias(\"Volume\"))\n",
    "                            \n",
    "query = extract_task.writeStream \\\n",
    "                     .format(\"memory\") \\\n",
    "                     .queryName(\"total\") \\\n",
    "                     .outputMode(\"update\") \\\n",
    "                     .start()"
   ]
  },
  {
   "cell_type": "code",
   "execution_count": 7,
   "metadata": {},
   "outputs": [
    {
     "name": "stdout",
     "output_type": "stream",
     "text": [
      "+--------+---------+-----------+\n",
      "|database|tableName|isTemporary|\n",
      "+--------+---------+-----------+\n",
      "|        |    total|       true|\n",
      "+--------+---------+-----------+\n",
      "\n"
     ]
    }
   ],
   "source": [
    "spark.sql(\"show tables\").show()"
   ]
  },
  {
   "cell_type": "markdown",
   "metadata": {},
   "source": [
    "Query quan sát dữ liệu với 20 rows đầu tiên\n"
   ]
  },
  {
   "cell_type": "code",
   "execution_count": 26,
   "metadata": {},
   "outputs": [
    {
     "name": "stdout",
     "output_type": "stream",
     "text": [
      "4036\n",
      "+---+----------------+-------+-------+-------+-------+------+\n",
      "| id|            Time|   Open|   High|    Low|  Close|Volume|\n",
      "+---+----------------+-------+-------+-------+-------+------+\n",
      "|  0|2020-10-27 04:03| 1.1821|1.18215|1.18208|1.18209| 419.0|\n",
      "|  1|2020-10-27 04:04|1.18208|1.18214|1.18208|1.18214| 145.0|\n",
      "|  2|2020-10-27 04:05|1.18214|1.18216|1.18212|1.18214| 176.0|\n",
      "|  3|2020-10-27 04:07|1.18214|1.18225|1.18214|1.18224| 119.0|\n",
      "|  4|2020-10-27 04:08|1.18223|1.18225|1.18221|1.18222| 255.0|\n",
      "|  5|2020-10-27 04:09|1.18223|1.18226|1.18221|1.18224| 219.0|\n",
      "|  6|2020-10-27 04:10|1.18225|1.18226|1.18224|1.18225| 156.0|\n",
      "|  7|2020-10-27 04:11|1.18224|1.18225|1.18224|1.18224| 102.0|\n",
      "|  8|2020-10-27 04:12|1.18225|1.18235|1.18221|1.18234| 641.0|\n",
      "|  9|2020-10-27 04:13|1.18234|1.18235|1.18226|1.18229| 450.0|\n",
      "| 10|2020-10-27 04:14|1.18228|1.18231|1.18227|1.18229| 582.0|\n",
      "| 11|2020-10-27 04:15|1.18231|1.18231|1.18228|1.18229| 306.0|\n",
      "| 12|2020-10-27 04:16| 1.1823|1.18233|1.18228|1.18233| 379.0|\n",
      "| 13|2020-10-27 04:17|1.18235| 1.1824|1.18233|1.18239| 275.0|\n",
      "| 14|2020-10-27 04:18|1.18241|1.18243|1.18239|1.18241| 421.0|\n",
      "| 15|2020-10-27 04:19|1.18241|1.18244|1.18239|1.18243| 377.0|\n",
      "| 16|2020-10-27 04:20|1.18244|1.18244|1.18236|1.18236| 328.0|\n",
      "| 17|2020-10-27 04:21|1.18236|1.18244|1.18233|1.18243| 633.0|\n",
      "| 18|2020-10-27 04:22|1.18243|1.18243|1.18233|1.18235| 254.0|\n",
      "| 19|2020-10-27 04:23|1.18236|1.18239|1.18236|1.18236| 321.0|\n",
      "+---+----------------+-------+-------+-------+-------+------+\n",
      "only showing top 20 rows\n",
      "\n"
     ]
    }
   ],
   "source": [
    "data = spark.sql(\"select * from total\")\n",
    "print(len(np.array(data.collect())))\n",
    "data.show()"
   ]
  },
  {
   "cell_type": "markdown",
   "metadata": {},
   "source": [
    "Sử dụng matplotlib để visualize dữ liệu dạng streaming, những dữ liệu mới sẽ được tự động visualize lên."
   ]
  },
  {
   "cell_type": "code",
   "execution_count": null,
   "metadata": {},
   "outputs": [],
   "source": [
    "from IPython.display import clear_output\n",
    "from matplotlib import pyplot as plt\n",
    "import collections\n",
    "%matplotlib inline\n",
    "\n",
    "def live_plot(data_dict, figsize=(20,10), title=''):\n",
    "    clear_output(wait=True)\n",
    "    plt.figure(figsize=figsize)\n",
    "    for label,data in data_dict.items():\n",
    "        plt.plot(data, label=label)\n",
    "    plt.title(title)\n",
    "    plt.grid(True)\n",
    "    plt.xlabel('epoch')\n",
    "    plt.legend(loc='center left') # the plot evolves to the right\n",
    "    plt.show();\n",
    "\n",
    "data_visua = collections.defaultdict(list)\n",
    "data_visua['USD_EUR'] = list(np.array(data.select(\"Close\").collect())[4023])\n",
    "# data1['fa'] = list(np.array(data.select(\"Close\").collect())[:,0] + 0.01)\n",
    "while(1):\n",
    "    live_plot(data_visua)\n",
    "    if(data_visua['USD_EUR'][-1] != np.array(data.select(\"Close\").collect())[-1][0]) :\n",
    "        data_visua['USD_EUR'].append(np.array(data.select(\"Close\").collect())[-1][0])\n",
    "        live_plot(data_visua)"
   ]
  },
  {
   "cell_type": "markdown",
   "metadata": {},
   "source": [
    "### Build model LSTM\n",
    "Xây dựng một model đơn giản sử dụng LSTM, predict streaming data\n"
   ]
  },
  {
   "cell_type": "code",
   "execution_count": 23,
   "metadata": {},
   "outputs": [
    {
     "name": "stderr",
     "output_type": "stream",
     "text": [
      "/usr/local/lib/python3.7/site-packages/tensorflow/python/framework/dtypes.py:516: FutureWarning: Passing (type, 1) or '1type' as a synonym of type is deprecated; in a future version of numpy, it will be understood as (type, (1,)) / '(1,)type'.\n",
      "  _np_qint8 = np.dtype([(\"qint8\", np.int8, 1)])\n",
      "/usr/local/lib/python3.7/site-packages/tensorflow/python/framework/dtypes.py:517: FutureWarning: Passing (type, 1) or '1type' as a synonym of type is deprecated; in a future version of numpy, it will be understood as (type, (1,)) / '(1,)type'.\n",
      "  _np_quint8 = np.dtype([(\"quint8\", np.uint8, 1)])\n",
      "/usr/local/lib/python3.7/site-packages/tensorflow/python/framework/dtypes.py:518: FutureWarning: Passing (type, 1) or '1type' as a synonym of type is deprecated; in a future version of numpy, it will be understood as (type, (1,)) / '(1,)type'.\n",
      "  _np_qint16 = np.dtype([(\"qint16\", np.int16, 1)])\n",
      "/usr/local/lib/python3.7/site-packages/tensorflow/python/framework/dtypes.py:519: FutureWarning: Passing (type, 1) or '1type' as a synonym of type is deprecated; in a future version of numpy, it will be understood as (type, (1,)) / '(1,)type'.\n",
      "  _np_quint16 = np.dtype([(\"quint16\", np.uint16, 1)])\n",
      "/usr/local/lib/python3.7/site-packages/tensorflow/python/framework/dtypes.py:520: FutureWarning: Passing (type, 1) or '1type' as a synonym of type is deprecated; in a future version of numpy, it will be understood as (type, (1,)) / '(1,)type'.\n",
      "  _np_qint32 = np.dtype([(\"qint32\", np.int32, 1)])\n",
      "/usr/local/lib/python3.7/site-packages/tensorflow/python/framework/dtypes.py:525: FutureWarning: Passing (type, 1) or '1type' as a synonym of type is deprecated; in a future version of numpy, it will be understood as (type, (1,)) / '(1,)type'.\n",
      "  np_resource = np.dtype([(\"resource\", np.ubyte, 1)])\n",
      "/usr/local/lib/python3.7/site-packages/tensorboard/compat/tensorflow_stub/dtypes.py:541: FutureWarning: Passing (type, 1) or '1type' as a synonym of type is deprecated; in a future version of numpy, it will be understood as (type, (1,)) / '(1,)type'.\n",
      "  _np_qint8 = np.dtype([(\"qint8\", np.int8, 1)])\n",
      "/usr/local/lib/python3.7/site-packages/tensorboard/compat/tensorflow_stub/dtypes.py:542: FutureWarning: Passing (type, 1) or '1type' as a synonym of type is deprecated; in a future version of numpy, it will be understood as (type, (1,)) / '(1,)type'.\n",
      "  _np_quint8 = np.dtype([(\"quint8\", np.uint8, 1)])\n",
      "/usr/local/lib/python3.7/site-packages/tensorboard/compat/tensorflow_stub/dtypes.py:543: FutureWarning: Passing (type, 1) or '1type' as a synonym of type is deprecated; in a future version of numpy, it will be understood as (type, (1,)) / '(1,)type'.\n",
      "  _np_qint16 = np.dtype([(\"qint16\", np.int16, 1)])\n",
      "/usr/local/lib/python3.7/site-packages/tensorboard/compat/tensorflow_stub/dtypes.py:544: FutureWarning: Passing (type, 1) or '1type' as a synonym of type is deprecated; in a future version of numpy, it will be understood as (type, (1,)) / '(1,)type'.\n",
      "  _np_quint16 = np.dtype([(\"quint16\", np.uint16, 1)])\n",
      "/usr/local/lib/python3.7/site-packages/tensorboard/compat/tensorflow_stub/dtypes.py:545: FutureWarning: Passing (type, 1) or '1type' as a synonym of type is deprecated; in a future version of numpy, it will be understood as (type, (1,)) / '(1,)type'.\n",
      "  _np_qint32 = np.dtype([(\"qint32\", np.int32, 1)])\n",
      "/usr/local/lib/python3.7/site-packages/tensorboard/compat/tensorflow_stub/dtypes.py:550: FutureWarning: Passing (type, 1) or '1type' as a synonym of type is deprecated; in a future version of numpy, it will be understood as (type, (1,)) / '(1,)type'.\n",
      "  np_resource = np.dtype([(\"resource\", np.ubyte, 1)])\n"
     ]
    }
   ],
   "source": [
    "from sklearn.preprocessing import MinMaxScaler\n",
    "import joblib\n",
    "from tensorflow.keras.models import Sequential\n",
    "from tensorflow.keras.layers import Dense,LSTM"
   ]
  },
  {
   "cell_type": "code",
   "execution_count": 141,
   "metadata": {},
   "outputs": [
    {
     "name": "stdout",
     "output_type": "stream",
     "text": [
      "(1498, 1, 1)\n",
      "(1498,)\n",
      "(2918, 1, 1)\n",
      "(2918,)\n"
     ]
    }
   ],
   "source": [
    "# data = spark.sql(\"select * from total\")\n",
    "dataset = np.array(data.select(\"Close\").collect())\n",
    "\n",
    "scaler = MinMaxScaler()\n",
    "dataset = scaler.fit_transform(dataset)\n",
    "#Training and test sets\n",
    "train = dataset[:1500]\n",
    "test = dataset[1500:]\n",
    "\n",
    "def get_data(data, look_back):\n",
    "    datax, datay = [],[]\n",
    "    for i in range(len(data)-look_back-1):\n",
    "        datax.append(data[i:(i+look_back),0])\n",
    "        datay.append(data[i+look_back,0])\n",
    "    return np.array(datax) , np.array(datay)\n",
    "look_back = 1\n",
    "\n",
    "x_train , y_train = get_data(train, look_back)\n",
    "x_test , y_test = get_data(test,look_back)\n",
    "\n",
    "\n",
    "#Processing train and test sets for LSTM model\n",
    "x_train = x_train.reshape(x_train.shape[0],x_train.shape[1], 1)\n",
    "x_test = x_test.reshape(x_test.shape[0],x_test.shape[1], 1)\n",
    "print(x_train.shape)\n",
    "print(y_train.shape)\n",
    "print(x_test.shape)\n",
    "print(y_test.shape)"
   ]
  },
  {
   "cell_type": "code",
   "execution_count": 142,
   "metadata": {},
   "outputs": [
    {
     "name": "stdout",
     "output_type": "stream",
     "text": [
      "Model: \"sequential_2\"\n",
      "_________________________________________________________________\n",
      "Layer (type)                 Output Shape              Param #   \n",
      "=================================================================\n",
      "lstm_2 (LSTM)                (None, 100)               40800     \n",
      "_________________________________________________________________\n",
      "dense_2 (Dense)              (None, 1)                 101       \n",
      "=================================================================\n",
      "Total params: 40,901\n",
      "Trainable params: 40,901\n",
      "Non-trainable params: 0\n",
      "_________________________________________________________________\n",
      "Epoch 1/5\n",
      "1498/1498 [==============================] - 6s 4ms/sample - loss: 0.0265\n",
      "Epoch 2/5\n",
      "1498/1498 [==============================] - 4s 3ms/sample - loss: 5.3978e-04\n",
      "Epoch 3/5\n",
      "1498/1498 [==============================] - 4s 3ms/sample - loss: 2.0785e-04\n",
      "Epoch 4/5\n",
      "1498/1498 [==============================] - 4s 3ms/sample - loss: 1.4716e-04\n",
      "Epoch 5/5\n",
      "1498/1498 [==============================] - 4s 3ms/sample - loss: 1.5322e-04\n"
     ]
    },
    {
     "data": {
      "text/plain": [
       "['scaler.save']"
      ]
     },
     "execution_count": 142,
     "metadata": {},
     "output_type": "execute_result"
    }
   ],
   "source": [
    "#Defining the LSTM model\n",
    "\n",
    "n_features=x_train.shape[1]\n",
    "model=Sequential()\n",
    "model.add(LSTM(100,activation='relu',input_shape=(1,1)))\n",
    "model.add(Dense(n_features))\n",
    "\n",
    "model.summary()\n",
    "model.compile(optimizer='adam', loss = 'mse')\n",
    "#Compiling\n",
    "model.compile(optimizer='adam', loss = 'mse')\n",
    "\n",
    "#Training\n",
    "model.fit(x_train,y_train, epochs = 5, batch_size=1)\n",
    "model.save(\"model.h5\")\n",
    "scaler_filename = \"scaler.save\"\n",
    "joblib.dump(scaler, scaler_filename) "
   ]
  },
  {
   "cell_type": "code",
   "execution_count": 143,
   "metadata": {},
   "outputs": [
    {
     "data": {
      "text/plain": [
       "<matplotlib.legend.Legend at 0x7f38b953c950>"
      ]
     },
     "execution_count": 143,
     "metadata": {},
     "output_type": "execute_result"
    },
    {
     "data": {
      "image/png": "[encoded data removed]",
      "text/plain": [
       "<Figure size 720x360 with 1 Axes>"
      ]
     },
     "metadata": {
      "needs_background": "light"
     },
     "output_type": "display_data"
    }
   ],
   "source": [
    "y_pred = model.predict(x_test)\n",
    "y_pred = scaler.inverse_transform(y_pred)\n",
    "y_test = np.array(y_test).reshape(-1,1)\n",
    "y_test = scaler.inverse_transform(y_test)\n",
    "\n",
    "#Visualizing the results\n",
    "plt.figure(figsize=(10,5))\n",
    "plt.title('Foreign Exchange Rate of India')\n",
    "plt.plot(y_test , label = 'Actual', color = 'g')\n",
    "plt.plot(y_pred , label = 'Predicted', color = 'r')\n",
    "plt.legend()"
   ]
  },
  {
   "cell_type": "markdown",
   "metadata": {},
   "source": [
    "### Visualize data and model predict\n"
   ]
  },
  {
   "cell_type": "code",
   "execution_count": 138,
   "metadata": {},
   "outputs": [
    {
     "name": "stdout",
     "output_type": "stream",
     "text": [
      "4404\n"
     ]
    }
   ],
   "source": [
    "data = spark.sql(\"select * from total\")\n",
    "print(len(np.array(data.collect())))"
   ]
  },
  {
   "cell_type": "markdown",
   "metadata": {},
   "source": [
    "Data sẽ được đọc theo dạng streaming, mỗi khi data tới, biểu đồ sẽ tự động vẽ ra data và pred tương ứng với nó bằng matplotlib"
   ]
  },
  {
   "cell_type": "code",
   "execution_count": null,
   "metadata": {},
   "outputs": [],
   "source": [
    "num_start = 4405\n",
    "data_visua = collections.defaultdict(list)\n",
    "rt_x_test = np.array(data.select(\"Close\").collect())[num_start:]\n",
    "scaler.transform(rt_x_test)\n",
    "rt_x_test = rt_x_test.reshape(rt_x_test.shape[0], rt_x_test.shape[1], 1)\n",
    "rt_y_test = scaler.inverse_transform(model.predict(rt_x_test))\n",
    "\n",
    "data_visua['USD_EUR'] = list(np.array(data.select(\"Close\").collect())[num_start+1:, 0])\n",
    "data_visua['USD_EUR_pred'] = list(rt_y_test[:-1, 0])\n",
    "\n",
    "while(1):\n",
    "    live_plot(data_visua)\n",
    "    if(data_visua['USD_EUR'][-1] != np.array(data.select(\"Close\").collect())[-1, 0]) :\n",
    "        x = data_visua['USD_EUR'][-1].reshape(1, 1)\n",
    "        data_visua['USD_EUR'].append(np.array(data.select(\"Close\").collect())[-1, 0])\n",
    "        \n",
    "        x = scaler.transform(x)\n",
    "        x = x.reshape(1, 1, 1)\n",
    "        pred = scaler.inverse_transform(model.predict(x))\n",
    "        data_visua['USD_EUR_pred'].append(pred)\n",
    "        live_plot(data_visua)\n"
   ]
  }
 ],
 "metadata": {
  "kernelspec": {
   "display_name": "Python 3",
   "language": "python",
   "name": "python3"
  },
  "language_info": {
   "codemirror_mode": {
    "name": "ipython",
    "version": 3
   },
   "file_extension": ".py",
   "mimetype": "text/x-python",
   "name": "python",
   "nbconvert_exporter": "python",
   "pygments_lexer": "ipython3",
   "version": "3.7.9"
  }
 },
 "nbformat": 4,
 "nbformat_minor": 4
}
