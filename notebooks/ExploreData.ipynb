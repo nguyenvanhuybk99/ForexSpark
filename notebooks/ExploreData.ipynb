{
 "cells": [
  {
   "cell_type": "code",
   "execution_count": null,
   "metadata": {},
   "outputs": [],
   "source": [
    "!pip install matplotlib\n",
    "!pip install tensorflow==1.14\n",
    "!pip install sklearn\n",
    "!pip install keras==2.4.3"
   ]
  },
  {
   "cell_type": "code",
   "execution_count": 1,
   "metadata": {},
   "outputs": [],
   "source": [
    "from pyspark.sql import SparkSession"
   ]
  },
  {
   "cell_type": "markdown",
   "metadata": {},
   "source": [
    "Chúng ta cần khai báo địa chỉ spark trong môi trường docker: \"spark://spark-master:7077\"\n",
    "*Sau khi kết nối được với spark thông qua spark context, mở trang localhost:8080 sẽ thấy một job đang chạy*  "
   ]
  },
  {
   "cell_type": "code",
   "execution_count": 3,
   "metadata": {},
   "outputs": [
    {
     "data": {
      "text/html": [
       "\n",
       "            <div>\n",
       "                <p><b>SparkSession - in-memory</b></p>\n",
       "                \n",
       "        <div>\n",
       "            <p><b>SparkContext</b></p>\n",
       "\n",
       "            <p><a href=\"http://05782d0d615f:4040\">Spark UI</a></p>\n",
       "\n",
       "            <dl>\n",
       "              <dt>Version</dt>\n",
       "                <dd><code>v3.0.1</code></dd>\n",
       "              <dt>Master</dt>\n",
       "                <dd><code>spark://spark-master:7077</code></dd>\n",
       "              <dt>AppName</dt>\n",
       "                <dd><code>sparkTest</code></dd>\n",
       "            </dl>\n",
       "        </div>\n",
       "        \n",
       "            </div>\n",
       "        "
      ],
      "text/plain": [
       "<pyspark.sql.session.SparkSession at 0x7f2f7b8d8d10>"
      ]
     },
     "execution_count": 3,
     "metadata": {},
     "output_type": "execute_result"
    }
   ],
   "source": [
    "packages = [\"org.apache.spark:spark-streaming-kafka-0-10_2.12:3.0.1\",\n",
    "            \"org.apache.spark:spark-sql-kafka-0-10_2.12:3.0.1\"]\n",
    "packages = \",\".join(packages)\n",
    "\n",
    "master = \"spark://spark-master:7077\"\n",
    "appName = \"Visualize\"\n",
    "\n",
    "spark = SparkSession.builder \\\n",
    "                    .master(master) \\\n",
    "                    .appName(appName) \\\n",
    "                    .config(\"spark.jars.packages\", packages) \\\n",
    "                    .config(\"spark.executor.memory\", \"1024m\") \\\n",
    "                    .config(\"spark.executor.core\", \"1\") \\\n",
    "                    .getOrCreate()\n",
    "\n",
    "spark"
   ]
  },
  {
   "cell_type": "markdown",
   "metadata": {},
   "source": [
    "Chạy chương trình logger trong scripts/run-logger.sh để thực hiện streaming dữ liệu.\n",
    "Dùng spark để nhận dữ liệu được streaming từ kafka tại df"
   ]
  },
  {
   "cell_type": "code",
   "execution_count": 4,
   "metadata": {},
   "outputs": [],
   "source": [
    "df = spark \\\n",
    "  .readStream \\\n",
    "  .format(\"kafka\") \\\n",
    "  .option(\"kafka.bootstrap.servers\", \"kafka:9093, kafka1:9093\") \\\n",
    "  .option(\"subscribe\", \"USDEUR\") \\\n",
    "  .option(\"startingOffsets\", \"earliest\") \\\n",
    "  .load()"
   ]
  },
  {
   "cell_type": "code",
   "execution_count": 6,
   "metadata": {},
   "outputs": [],
   "source": [
    "from pyspark.sql.functions import col, udf, split, mean\n",
    "from pyspark.sql import Row, DataFrame\n",
    "import numpy as np"
   ]
  },
  {
   "cell_type": "markdown",
   "metadata": {},
   "source": [
    "Trích xuất các thông tin cần thiết từ dữ liệu và ghi vào bộ nhớ ram ở dạng temporary table"
   ]
  },
  {
   "cell_type": "code",
   "execution_count": 7,
   "metadata": {},
   "outputs": [],
   "source": [
    "value = df.select(col(\"value\").cast(\"string\").alias(\"Value\"))\n",
    "# value.writeStream.format(\"memory\").queryName(\"value\").outputMode(\"update\").start()\n",
    "\n",
    "split_col = split(col(\"Value\"), \",\")\n",
    "extract_task = value.select(split_col.getItem(0).cast(\"int\").alias('id'),\n",
    "                            split_col.getItem(1).cast(\"string\").alias(\"Time\"),\n",
    "                            split_col.getItem(2).cast(\"float\").alias(\"Open\"),\n",
    "                            split_col.getItem(3).cast(\"float\").alias(\"High\"),\n",
    "                            split_col.getItem(4).cast(\"float\").alias(\"Low\"),\n",
    "                            split_col.getItem(5).cast(\"float\").alias(\"Close\"),\n",
    "                            split_col.getItem(6).cast(\"float\").alias(\"Volume\"))\n",
    "                            \n",
    "query = extract_task.writeStream \\\n",
    "                     .format(\"memory\") \\\n",
    "                     .queryName(\"total\") \\\n",
    "                     .outputMode(\"update\") \\\n",
    "                     .start()"
   ]
  },
  {
   "cell_type": "code",
   "execution_count": 17,
   "metadata": {},
   "outputs": [
    {
     "name": "stdout",
     "output_type": "stream",
     "text": [
      "+--------+---------+-----------+\n",
      "|database|tableName|isTemporary|\n",
      "+--------+---------+-----------+\n",
      "|        |    total|       true|\n",
      "+--------+---------+-----------+\n",
      "\n"
     ]
    }
   ],
   "source": [
    "spark.sql(\"show tables\").show()"
   ]
  },
  {
   "cell_type": "markdown",
   "metadata": {},
   "source": [
    "Query quan sát dữ liệu với 20 rows đầu tiên\n"
   ]
  },
  {
   "cell_type": "code",
   "execution_count": 12,
   "metadata": {},
   "outputs": [
    {
     "name": "stdout",
     "output_type": "stream",
     "text": [
      "2457\n",
      "+---+----------------+-------+-------+-------+-------+------+\n",
      "| id|            Time|   Open|   High|    Low|  Close|Volume|\n",
      "+---+----------------+-------+-------+-------+-------+------+\n",
      "|  0|2020-10-27 04:03| 1.1821|1.18215|1.18208|1.18209| 419.0|\n",
      "|  1|2020-10-27 04:04|1.18208|1.18214|1.18208|1.18214| 145.0|\n",
      "|  2|2020-10-27 04:05|1.18214|1.18216|1.18212|1.18214| 176.0|\n",
      "|  3|2020-10-27 04:07|1.18214|1.18225|1.18214|1.18224| 119.0|\n",
      "|  4|2020-10-27 04:08|1.18223|1.18225|1.18221|1.18222| 255.0|\n",
      "|  5|2020-10-27 04:09|1.18223|1.18226|1.18221|1.18224| 219.0|\n",
      "|  6|2020-10-27 04:10|1.18225|1.18226|1.18224|1.18225| 156.0|\n",
      "|  7|2020-10-27 04:11|1.18224|1.18225|1.18224|1.18224| 102.0|\n",
      "|  8|2020-10-27 04:12|1.18225|1.18235|1.18221|1.18234| 641.0|\n",
      "|  9|2020-10-27 04:13|1.18234|1.18235|1.18226|1.18229| 450.0|\n",
      "| 10|2020-10-27 04:14|1.18228|1.18231|1.18227|1.18229| 582.0|\n",
      "| 11|2020-10-27 04:15|1.18231|1.18231|1.18228|1.18229| 306.0|\n",
      "| 12|2020-10-27 04:16| 1.1823|1.18233|1.18228|1.18233| 379.0|\n",
      "| 13|2020-10-27 04:17|1.18235| 1.1824|1.18233|1.18239| 275.0|\n",
      "| 14|2020-10-27 04:18|1.18241|1.18243|1.18239|1.18241| 421.0|\n",
      "| 15|2020-10-27 04:19|1.18241|1.18244|1.18239|1.18243| 377.0|\n",
      "| 16|2020-10-27 04:20|1.18244|1.18244|1.18236|1.18236| 328.0|\n",
      "| 17|2020-10-27 04:21|1.18236|1.18244|1.18233|1.18243| 633.0|\n",
      "| 18|2020-10-27 04:22|1.18243|1.18243|1.18233|1.18235| 254.0|\n",
      "| 19|2020-10-27 04:23|1.18236|1.18239|1.18236|1.18236| 321.0|\n",
      "+---+----------------+-------+-------+-------+-------+------+\n",
      "only showing top 20 rows\n",
      "\n"
     ]
    }
   ],
   "source": [
    "data = spark.sql(\"select * from total\")\n",
    "print(len(np.array(data.collect())))\n",
    "data.show()"
   ]
  },
  {
   "cell_type": "markdown",
   "metadata": {},
   "source": [
    "Sử dụng matplotlib để visualize dữ liệu dạng streaming, những dữ liệu mới sẽ được tự động visualize lên."
   ]
  },
  {
   "cell_type": "code",
   "execution_count": null,
   "metadata": {},
   "outputs": [],
   "source": [
    "from IPython.display import clear_output\n",
    "from matplotlib import pyplot as plt\n",
    "import collections\n",
    "%matplotlib inline\n",
    "\n",
    "def live_plot(data_dict, figsize=(20,10), title=''):\n",
    "    clear_output(wait=True)\n",
    "    plt.figure(figsize=figsize)\n",
    "    for label,data in data_dict.items():\n",
    "        plt.plot(data, label=label)\n",
    "    plt.title(title)\n",
    "    plt.grid(True)\n",
    "    plt.xlabel('epoch')\n",
    "    plt.legend(loc='center left') # the plot evolves to the right\n",
    "    plt.show();\n",
    "\n",
    "data1 = collections.defaultdict(list)\n",
    "v = list(np.array(data.select(\"Close\").collect())[:,0])\n",
    "data1['foo'] = v\n",
    "# data1['fa'] = list(np.array(data.select(\"Close\").collect())[:,0] + 0.01)\n",
    "while(1):\n",
    "    if(v[-1] != np.array(data.select(\"Close\").collect())[-1][0]) :\n",
    "        v.append(np.array(data.select(\"Close\").collect())[-1][0])\n",
    "        data1['foo'].append(np.array(data.select(\"Close\").collect())[-1][0])\n",
    "#         data1['fa'].append(np.array(data.select(\"Close\").collect())[-1][0] + 0.01)\n",
    "        live_plot(data1)"
   ]
  },
  {
   "cell_type": "markdown",
   "metadata": {},
   "source": [
    "### Build model LSTM"
   ]
  },
  {
   "cell_type": "code",
   "execution_count": 19,
   "metadata": {},
   "outputs": [
    {
     "data": {
      "text/plain": [
       "(2423, 1)"
      ]
     },
     "execution_count": 19,
     "metadata": {},
     "output_type": "execute_result"
    }
   ],
   "source": [
    "# data = spark.sql(\"select * from total\")\n",
    "dataset = np.array(data.select(\"Close\").collect())\n",
    "dataset.shape"
   ]
  },
  {
   "cell_type": "code",
   "execution_count": 20,
   "metadata": {},
   "outputs": [
    {
     "name": "stdout",
     "output_type": "stream",
     "text": [
      "(1500, 1)\n",
      "(923, 1)\n"
     ]
    }
   ],
   "source": [
    "from sklearn.preprocessing import MinMaxScaler\n",
    "scaler = MinMaxScaler()\n",
    "dataset = scaler.fit_transform(dataset)\n",
    "#Training and test sets\n",
    "train = dataset[:1500]\n",
    "test = dataset[1500:]\n",
    "\n",
    "print(train.shape)\n",
    "print(test.shape)"
   ]
  },
  {
   "cell_type": "code",
   "execution_count": 21,
   "metadata": {},
   "outputs": [
    {
     "name": "stdout",
     "output_type": "stream",
     "text": [
      "(1498, 1)\n",
      "(1498,)\n"
     ]
    }
   ],
   "source": [
    "def get_data(data, look_back):\n",
    "    datax, datay = [],[]\n",
    "    for i in range(len(data)-look_back-1):\n",
    "        datax.append(data[i:(i+look_back),0])\n",
    "        datay.append(data[i+look_back,0])\n",
    "    return np.array(datax) , np.array(datay)\n",
    "look_back = 1\n",
    "\n",
    "x_train , y_train = get_data(train, look_back)\n",
    "print(x_train.shape)\n",
    "print(y_train.shape)\n"
   ]
  },
  {
   "cell_type": "code",
   "execution_count": 22,
   "metadata": {},
   "outputs": [
    {
     "name": "stdout",
     "output_type": "stream",
     "text": [
      "(921, 1)\n",
      "(921,)\n"
     ]
    }
   ],
   "source": [
    "x_test , y_test = get_data(test,look_back)\n",
    "print(x_test.shape)\n",
    "print(y_test.shape)"
   ]
  },
  {
   "cell_type": "code",
   "execution_count": 23,
   "metadata": {},
   "outputs": [
    {
     "name": "stdout",
     "output_type": "stream",
     "text": [
      "(1498, 1, 1)\n",
      "(921, 1, 1)\n"
     ]
    }
   ],
   "source": [
    "#Processing train and test sets for LSTM model\n",
    "x_train = x_train.reshape(x_train.shape[0],x_train.shape[1], 1)\n",
    "x_test = x_test.reshape(x_test.shape[0],x_test.shape[1], 1)\n",
    "print(x_train.shape)\n",
    "print(x_test.shape)"
   ]
  },
  {
   "cell_type": "code",
   "execution_count": 25,
   "metadata": {},
   "outputs": [
    {
     "name": "stdout",
     "output_type": "stream",
     "text": [
      "WARNING:tensorflow:From /usr/local/lib/python3.7/site-packages/tensorflow/python/ops/init_ops.py:1251: calling VarianceScaling.__init__ (from tensorflow.python.ops.init_ops) with dtype is deprecated and will be removed in a future version.\n",
      "Instructions for updating:\n",
      "Call initializer instance with the dtype argument instead of passing it to the constructor\n",
      "Model: \"sequential\"\n",
      "_________________________________________________________________\n",
      "Layer (type)                 Output Shape              Param #   \n",
      "=================================================================\n",
      "lstm (LSTM)                  (None, 100)               40800     \n",
      "_________________________________________________________________\n",
      "dense (Dense)                (None, 1)                 101       \n",
      "=================================================================\n",
      "Total params: 40,901\n",
      "Trainable params: 40,901\n",
      "Non-trainable params: 0\n",
      "_________________________________________________________________\n"
     ]
    }
   ],
   "source": [
    "#Defining the LSTM model\n",
    "from tensorflow.keras.models import Sequential\n",
    "from tensorflow.keras.layers import Dense,LSTM\n",
    "\n",
    "n_features=x_train.shape[1]\n",
    "model=Sequential()\n",
    "model.add(LSTM(100,activation='relu',input_shape=(1,1)))\n",
    "model.add(Dense(n_features))\n",
    "\n",
    "model.summary()"
   ]
  },
  {
   "cell_type": "code",
   "execution_count": 26,
   "metadata": {},
   "outputs": [
    {
     "name": "stdout",
     "output_type": "stream",
     "text": [
      "WARNING:tensorflow:From /usr/local/lib/python3.7/site-packages/tensorflow/python/ops/math_grad.py:1250: add_dispatch_support.<locals>.wrapper (from tensorflow.python.ops.array_ops) is deprecated and will be removed in a future version.\n",
      "Instructions for updating:\n",
      "Use tf.where in 2.0, which has the same broadcast rule as np.where\n",
      "Epoch 1/5\n",
      "1498/1498 [==============================] - 6s 4ms/sample - loss: 0.0292\n",
      "Epoch 2/5\n",
      "1498/1498 [==============================] - 4s 3ms/sample - loss: 6.0421e-04\n",
      "Epoch 3/5\n",
      "1498/1498 [==============================] - 4s 3ms/sample - loss: 1.6015e-04\n",
      "Epoch 4/5\n",
      "1498/1498 [==============================] - 4s 3ms/sample - loss: 1.4155e-04\n",
      "Epoch 5/5\n",
      "1498/1498 [==============================] - 4s 3ms/sample - loss: 1.4672e-04\n"
     ]
    },
    {
     "data": {
      "text/plain": [
       "<tensorflow.python.keras.callbacks.History at 0x7f27242e0e10>"
      ]
     },
     "execution_count": 26,
     "metadata": {},
     "output_type": "execute_result"
    }
   ],
   "source": [
    "#Compiling\n",
    "model.compile(optimizer='adam', loss = 'mse')\n",
    "\n",
    "#Training\n",
    "model.fit(x_train,y_train, epochs = 5, batch_size=1)"
   ]
  },
  {
   "cell_type": "code",
   "execution_count": 27,
   "metadata": {},
   "outputs": [
    {
     "data": {
      "text/plain": [
       "array([84.24580961])"
      ]
     },
     "execution_count": 27,
     "metadata": {},
     "output_type": "execute_result"
    }
   ],
   "source": [
    "#Prediction using the trained model\n",
    "scaler.scale_"
   ]
  },
  {
   "cell_type": "code",
   "execution_count": 28,
   "metadata": {},
   "outputs": [
    {
     "name": "stdout",
     "output_type": "stream",
     "text": [
      "[[1.1788462]\n",
      " [1.1787559]\n",
      " [1.1784614]\n",
      " [1.1784179]\n",
      " [1.1784527]\n",
      " [1.1784179]\n",
      " [1.1782707]\n",
      " [1.1782191]\n",
      " [1.1782105]\n",
      " [1.1782191]]\n"
     ]
    }
   ],
   "source": [
    "y_pred = model.predict(x_test)\n",
    "y_pred = scaler.inverse_transform(y_pred)\n",
    "print(y_pred[:10])\n"
   ]
  },
  {
   "cell_type": "code",
   "execution_count": 29,
   "metadata": {},
   "outputs": [
    {
     "name": "stdout",
     "output_type": "stream",
     "text": [
      "[[1.17861998]\n",
      " [1.17829001]\n",
      " [1.17823994]\n",
      " [1.17828   ]\n",
      " [1.17823994]\n",
      " [1.17806995]\n",
      " [1.17800999]\n",
      " [1.17799997]\n",
      " [1.17800999]\n",
      " [1.17786002]]\n"
     ]
    }
   ],
   "source": [
    "#Processing test shape\n",
    "y_test = np.array(y_test).reshape(-1,1)\n",
    "y_test = scaler.inverse_transform(y_test)\n",
    "print(y_test[:10])"
   ]
  },
  {
   "cell_type": "code",
   "execution_count": 30,
   "metadata": {},
   "outputs": [
    {
     "data": {
      "text/plain": [
       "<matplotlib.legend.Legend at 0x7f2724138ad0>"
      ]
     },
     "execution_count": 30,
     "metadata": {},
     "output_type": "execute_result"
    },
    {
     "data": {
      "image/png": "[encoded data removed]",
      "text/plain": [
       "<Figure size 720x360 with 1 Axes>"
      ]
     },
     "metadata": {
      "needs_background": "light"
     },
     "output_type": "display_data"
    }
   ],
   "source": [
    "#Visualizing the results\n",
    "plt.figure(figsize=(10,5))\n",
    "plt.title('Foreign Exchange Rate of India')\n",
    "plt.plot(y_test , label = 'Actual', color = 'g')\n",
    "plt.plot(y_pred , label = 'Predicted', color = 'r')\n",
    "plt.legend()"
   ]
  }
 ],
 "metadata": {
  "kernelspec": {
   "display_name": "Python 3",
   "language": "python",
   "name": "python3"
  },
  "language_info": {
   "codemirror_mode": {
    "name": "ipython",
    "version": 3
   },
   "file_extension": ".py",
   "mimetype": "text/x-python",
   "name": "python",
   "nbconvert_exporter": "python",
   "pygments_lexer": "ipython3",
   "version": "3.7.9"
  }
 },
 "nbformat": 4,
 "nbformat_minor": 4
}
